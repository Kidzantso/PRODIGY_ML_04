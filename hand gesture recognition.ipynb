{
 "cells": [
  {
   "cell_type": "code",
   "execution_count": null,
   "metadata": {
    "_cell_guid": "79c7e3d0-c299-4dcb-8224-4455121ee9b0",
    "_uuid": "d629ff2d2480ee46fbb7e2d37f6b5fab8052498a"
   },
   "outputs": [],
   "source": [
    "import os\n",
    "import numpy as np\n",
    "from PIL import Image\n",
    "import matplotlib.image as mpimg \n",
    "import numpy as np\n",
    "import matplotlib.pyplot as plt\n",
    "import matplotlib.cm as cm\n",
    "import IPython.display\n",
    "import codecs\n",
    "import json\n",
    "import cv2"
   ]
  },
  {
   "cell_type": "code",
   "execution_count": null,
   "metadata": {},
   "outputs": [],
   "source": [
    "path='../input/leapgestrecog/leapGestRecog'\n",
    "folders=os.listdir(path)\n",
    "folders=set(folders)\n",
    "different_classes=os.listdir(path+'/'+'00')\n",
    "different_classes=set(different_classes)\n",
    "print(\"The different classes that exist in this dataset are:\")\n",
    "print(different_classes,sep='\\n')"
   ]
  },
  {
   "cell_type": "code",
   "execution_count": null,
   "metadata": {},
   "outputs": [],
   "source": [
    "x=[]\n",
    "z=[]\n",
    "y=[]\n",
    "threshold=200\n",
    "\n",
    "for i in folders:\n",
    "    print('***',i,'***')\n",
    "    subject=path+'/'+i\n",
    "    subdir=os.listdir(subject)\n",
    "    subdir=set(subdir)\n",
    "    for j in subdir:\n",
    "        print(j)\n",
    "        images=os.listdir(subject+'/'+j)\n",
    "        for k in images:\n",
    "            results=dict()\n",
    "            results['y']=j.split('_')[0]\n",
    "            img = cv2.imread(subject+'/'+j+'/'+k,0)\n",
    "            img=cv2.resize(img,(int(160),int(60)))\n",
    "            \n",
    "            ret, imgf = cv2.threshold(img, 0, 255, cv2.THRESH_BINARY+cv2.THRESH_OTSU)\n",
    "            imgD=np.asarray(img,dtype=np.float64)\n",
    "            z.append(imgD)\n",
    "            imgf=np.asarray(imgf,dtype=np.float64)\n",
    "            x.append(imgf)\n",
    "            y.append(int(j.split('_')[0]))\n",
    "            results['x']=imgf\n",
    "\n",
    "print(list(set(y)))"
   ]
  },
  {
   "cell_type": "code",
   "execution_count": null,
   "metadata": {},
   "outputs": [],
   "source": [
    "l = []\n",
    "list_names = []\n",
    "for i in range(10):\n",
    "    l.append(0)\n",
    "for i in range(len(x)):\n",
    "    if(l[y[i] - 1] == 0):\n",
    "        l[y[i] - 1] = i\n",
    "        if(len(np.unique(l)) == 10):\n",
    "            break\n",
    "for i in range(len(l)):\n",
    "    %matplotlib inline\n",
    "    print(\"Class Label: \" + str(i + 1))\n",
    "    plt.imshow(np.asarray(z[l[i]]), cmap  =cm.gray)\n",
    "    plt.show()\n",
    "    plt.imshow(np.asarray(x[l[i]]), cmap = cm.gray)     \n",
    "    plt.show()"
   ]
  },
  {
   "cell_type": "code",
   "execution_count": null,
   "metadata": {},
   "outputs": [],
   "source": [
    "x=np.array(x)\n",
    "y=np.array(y)\n",
    "y = y.reshape(len(x), 1)"
   ]
  },
  {
   "cell_type": "code",
   "execution_count": 6,
   "metadata": {},
   "outputs": [],
   "source": [
    "x_data = x.reshape((len(x), 60, 160, 1))\n",
    "x_data/=255\n",
    "x_data=list(x_data)\n",
    "for i in range(len(x_data)):\n",
    "    x_data[i]=x_data[i].flatten()"
   ]
  },
  {
   "cell_type": "markdown",
   "metadata": {},
   "source": [
    "## PCA to the data"
   ]
  },
  {
   "cell_type": "code",
   "execution_count": null,
   "metadata": {},
   "outputs": [],
   "source": [
    "from sklearn.decomposition import PCA\n",
    "pca = PCA(n_components=4)\n",
    "x_data=np.array(x_data)\n",
    "x_data=pca.fit_transform(x_data)\n",
    "print(pca.explained_variance_ratio_)  \n",
    "print(pca.singular_values_)  "
   ]
  },
  {
   "cell_type": "code",
   "execution_count": 8,
   "metadata": {},
   "outputs": [],
   "source": [
    "from sklearn.model_selection import train_test_split\n",
    "x_train,x_further,y_train,y_further = train_test_split(x_data,y,test_size = 0.2)"
   ]
  },
  {
   "cell_type": "markdown",
   "metadata": {},
   "source": [
    "## Scaling"
   ]
  },
  {
   "cell_type": "code",
   "execution_count": 9,
   "metadata": {},
   "outputs": [],
   "source": [
    "from sklearn.preprocessing import StandardScaler  \n",
    "scaler = StandardScaler()  \n",
    "scaler.fit(x_train)\n",
    "X_train = scaler.transform(x_train)  \n",
    "X_test = scaler.transform(x_further)  "
   ]
  },
  {
   "cell_type": "markdown",
   "metadata": {},
   "source": [
    "## Model accuracy"
   ]
  },
  {
   "cell_type": "code",
   "execution_count": null,
   "metadata": {},
   "outputs": [],
   "source": [
    "from sklearn.metrics import accuracy_score\n",
    "def model_accuracy(model):\n",
    "    model.fit(X_train, y_train)\n",
    "    y_pred_model = model.predict(X_test) \n",
    "    y_train_score_model=model.predict(X_train)\n",
    "    print(\"accuracy of the model is:\\nTest \", accuracy_score(y_further, y_pred_model, normalize=True, sample_weight=None))\n",
    "    print('Train',accuracy_score(y_train, y_train_score_model, normalize=True, sample_weight=None))"
   ]
  },
  {
   "cell_type": "markdown",
   "metadata": {},
   "source": [
    "## SGD classifier"
   ]
  },
  {
   "cell_type": "code",
   "execution_count": null,
   "metadata": {},
   "outputs": [],
   "source": [
    "from sklearn.linear_model import SGDClassifier\n",
    "sgd= SGDClassifier(loss='modified_huber',shuffle=True,random_state=101)\n",
    "model_accuracy(sgd)"
   ]
  },
  {
   "cell_type": "markdown",
   "metadata": {},
   "source": [
    "## KNN"
   ]
  },
  {
   "cell_type": "code",
   "execution_count": null,
   "metadata": {},
   "outputs": [],
   "source": [
    "from sklearn.neighbors import KNeighborsClassifier  \n",
    "classifier = KNeighborsClassifier(n_neighbors=5)  \n",
    "model_accuracy(classifier) \n"
   ]
  },
  {
   "cell_type": "markdown",
   "metadata": {},
   "source": [
    "## Decision tree"
   ]
  },
  {
   "cell_type": "code",
   "execution_count": 15,
   "metadata": {},
   "outputs": [],
   "source": [
    "from sklearn import tree\n",
    "clf = tree.DecisionTreeClassifier(max_depth=10)\n",
    "model_accuracy(clf) "
   ]
  },
  {
   "cell_type": "markdown",
   "metadata": {},
   "source": [
    "## Random forest"
   ]
  },
  {
   "cell_type": "code",
   "execution_count": null,
   "metadata": {},
   "outputs": [],
   "source": [
    "from sklearn.ensemble import RandomForestClassifier\n",
    "clf_rft = RandomForestClassifier(n_estimators=100, max_depth=15,random_state=0)\n",
    "model_accuracy(clf_rft) "
   ]
  },
  {
   "cell_type": "markdown",
   "metadata": {},
   "source": [
    "## Logistic Regression"
   ]
  },
  {
   "cell_type": "code",
   "execution_count": null,
   "metadata": {},
   "outputs": [],
   "source": [
    "\n",
    "\n",
    "from sklearn.linear_model import LogisticRegression\n",
    "logistic = LogisticRegression(solver = 'lbfgs')\n",
    "model_accuracy(logistic)"
   ]
  },
  {
   "cell_type": "markdown",
   "metadata": {},
   "source": [
    "## Naive Bayes"
   ]
  },
  {
   "cell_type": "code",
   "execution_count": null,
   "metadata": {},
   "outputs": [],
   "source": [
    "from sklearn.naive_bayes import GaussianNB \n",
    "gnb = GaussianNB() \n",
    "model_accuracy(gnb)"
   ]
  },
  {
   "cell_type": "markdown",
   "metadata": {},
   "source": [
    "## ANN"
   ]
  },
  {
   "cell_type": "code",
   "execution_count": null,
   "metadata": {},
   "outputs": [],
   "source": [
    "from sklearn.neural_network import MLPClassifier\n",
    "ann_clf = MLPClassifier()\n",
    "model_accuracy(ann_clf)"
   ]
  },
  {
   "cell_type": "markdown",
   "metadata": {},
   "source": [
    "## Gradient Descent Classifier"
   ]
  },
  {
   "cell_type": "code",
   "execution_count": null,
   "metadata": {},
   "outputs": [],
   "source": [
    "from sklearn.ensemble import GradientBoostingClassifier\n",
    "gdc_model= GradientBoostingClassifier(learning_rate=0.01,random_state=1)\n",
    "model_accuracy(gdc_model)"
   ]
  },
  {
   "cell_type": "markdown",
   "metadata": {},
   "source": [
    "## SVM"
   ]
  },
  {
   "cell_type": "code",
   "execution_count": null,
   "metadata": {},
   "outputs": [],
   "source": [
    "from sklearn.svm import SVC \n",
    "svm_model_rbf = SVC(kernel = 'rbf', C = 10,probability=True).fit(X_train, y_train) \n",
    "model_accuracy(svm_model_rbf)"
   ]
  }
 ],
 "metadata": {
  "kernelspec": {
   "display_name": "Python 3",
   "language": "python",
   "name": "python3"
  },
  "language_info": {
   "codemirror_mode": {
    "name": "ipython",
    "version": 3
   },
   "file_extension": ".py",
   "mimetype": "text/x-python",
   "name": "python",
   "nbconvert_exporter": "python",
   "pygments_lexer": "ipython3",
   "version": "3.6.4"
  }
 },
 "nbformat": 4,
 "nbformat_minor": 1
}
